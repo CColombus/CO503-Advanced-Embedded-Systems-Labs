{
 "cells": [
  {
   "cell_type": "code",
   "execution_count": 1,
   "metadata": {},
   "outputs": [],
   "source": [
    "text = '<node hpath=\"TOP_MSOC:inst1|TOP_MSOC_CPU_1b:cpu_1b|TOP_MSOC_jtag_uart:uart_0|alt_jtag_atlantic:TOP_MSOC_jtag_uart_alt_jtag_atlantic\" instance_id=\"0\" mfg_id=\"110\" node_id=\"128\" sld_node_info=\"0xC006E00\" version=\"1\">'"
   ]
  },
  {
   "cell_type": "code",
   "execution_count": 2,
   "metadata": {},
   "outputs": [],
   "source": [
    "import re\n",
    "from icecream import ic\n"
   ]
  },
  {
   "cell_type": "code",
   "execution_count": 5,
   "metadata": {},
   "outputs": [
    {
     "name": "stderr",
     "output_type": "stream",
     "text": [
      "ic| hpath: 'TOP_MSOC:inst1|TOP_MSOC_CPU_1b:cpu_1b|TOP_MSOC_jtag_uart:uart_0|alt_jtag_atlantic:TOP_MSOC_jtag_uart_alt_jtag_atlantic'\n"
     ]
    },
    {
     "name": "stderr",
     "output_type": "stream",
     "text": [
      "    instance_id: '0'\n",
      "    mfg_id: '110'\n",
      "    node_id: '128'\n",
      "    sld_node_info: '0xC006E00'\n",
      "    version: '1'\n"
     ]
    },
    {
     "data": {
      "text/plain": [
       "('TOP_MSOC:inst1|TOP_MSOC_CPU_1b:cpu_1b|TOP_MSOC_jtag_uart:uart_0|alt_jtag_atlantic:TOP_MSOC_jtag_uart_alt_jtag_atlantic',\n",
       " '0',\n",
       " '110',\n",
       " '128',\n",
       " '0xC006E00',\n",
       " '1')"
      ]
     },
     "execution_count": 5,
     "metadata": {},
     "output_type": "execute_result"
    }
   ],
   "source": [
    "# get the hpath, instance_id, mfg_id, node_id, sld_node_info, version\n",
    "hpath = re.search(r'hpath=\"([^\"]+)\"', text).group(1)\n",
    "instance_id = re.search(r'instance_id=\"([^\"]+)\"', text).group(1)\n",
    "mfg_id = re.search(r'mfg_id=\"([^\"]+)\"', text).group(1)\n",
    "node_id = re.search(r'node_id=\"([^\"]+)\"', text).group(1)\n",
    "sld_node_info = re.search(r'sld_node_info=\"([^\"]+)\"', text).group(1)\n",
    "version = re.search(r'version=\"([^\"]+)\"', text).group(1)\n",
    "\n",
    "ic(hpath, instance_id, mfg_id, node_id, sld_node_info, version)"
   ]
  }
 ],
 "metadata": {
  "kernelspec": {
   "display_name": "Python 3",
   "language": "python",
   "name": "python3"
  },
  "language_info": {
   "codemirror_mode": {
    "name": "ipython",
    "version": 3
   },
   "file_extension": ".py",
   "mimetype": "text/x-python",
   "name": "python",
   "nbconvert_exporter": "python",
   "pygments_lexer": "ipython3",
   "version": "3.11.2"
  }
 },
 "nbformat": 4,
 "nbformat_minor": 2
}
